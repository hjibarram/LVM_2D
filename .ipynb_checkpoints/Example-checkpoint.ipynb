{
 "cells": [
  {
   "cell_type": "markdown",
   "id": "3528c784",
   "metadata": {},
   "source": [
    "Load the 2d script"
   ]
  },
  {
   "cell_type": "code",
   "execution_count": 1,
   "id": "f99b2ed7",
   "metadata": {},
   "outputs": [],
   "source": [
    "import imp\n",
    "from astropy.io import fits\n",
    "import glob, os, sys\n",
    "twodlvm = imp.load_source('2d_LVM', '2d_projection.py')"
   ]
  },
  {
   "cell_type": "markdown",
   "id": "2338bd09",
   "metadata": {},
   "source": [
    "Create the spectrograph PSF maps"
   ]
  },
  {
   "cell_type": "code",
   "execution_count": null,
   "id": "e11128b4",
   "metadata": {},
   "outputs": [],
   "source": [
    "twodlvm.get_focus(dir1='libs/',name='focus_lvm_blue1',dsx=1.1,dsy=0.8,rho=0.5,vt1=0.1,vt2=0.1,vt3=0.05,lt=1500.)\n",
    "twodlvm.get_focus(dir1='libs/',name='focus_lvm_red1',dsx=1.1,dsy=0.8,rho=0.5,vt1=0.1,vt2=0.1,vt3=0.05,lt=1500.)\n",
    "twodlvm.get_focus(dir1='libs/',name='focus_lvm_nir1',dsx=1.1,dsy=0.8,rho=0.5,vt1=0.1,vt2=0.1,vt3=0.05,lt=1500.)\n",
    "\n",
    "twodlvm.get_focus(dir1='libs/',name='focus_lvm_blue2',dsx=1.1,dsy=0.8,rho=0.5,vt1=0.1,vt2=0.1,vt3=0.05,lt=1500.)\n",
    "twodlvm.get_focus(dir1='libs/',name='focus_lvm_red2',dsx=1.1,dsy=0.8,rho=0.5,vt1=0.1,vt2=0.1,vt3=0.05,lt=1500.)\n",
    "twodlvm.get_focus(dir1='libs/',name='focus_lvm_nir2',dsx=1.1,dsy=0.8,rho=0.5,vt1=0.1,vt2=0.1,vt3=0.05,lt=1500.)\n",
    "\n",
    "twodlvm.get_focus(dir1='libs/',name='focus_lvm_blue3',dsx=1.1,dsy=0.8,rho=0.5,vt1=0.1,vt2=0.1,vt3=0.05,lt=1500.)\n",
    "twodlvm.get_focus(dir1='libs/',name='focus_lvm_red3',dsx=1.1,dsy=0.8,rho=0.5,vt1=0.1,vt2=0.1,vt3=0.05,lt=1500.)\n",
    "twodlvm.get_focus(dir1='libs/',name='focus_lvm_nir3',dsx=1.1,dsy=0.8,rho=0.5,vt1=0.1,vt2=0.1,vt3=0.05,lt=1500.)"
   ]
  },
  {
   "cell_type": "markdown",
   "id": "b1663e76",
   "metadata": {},
   "source": [
    "Read de output files from the LVM_sim"
   ]
  },
  {
   "cell_type": "code",
   "execution_count": 2,
   "id": "ef476939",
   "metadata": {},
   "outputs": [
    {
     "data": {
      "image/png": "[encoded data removed]",
      "text/plain": [
       "<Figure size 538.56x475.2 with 1 Axes>"
      ]
     },
     "metadata": {
      "needs_background": "light"
     },
     "output_type": "display_data"
    }
   ],
   "source": [
    "typ='red'\n",
    "base_name='reference'\n",
    "base_name='LVM_customneb_example'\n",
    "exptime='900'\n",
    "\n",
    "cube_file=base_name+'_'+typ+'_full_'+exptime+'_no_noise.fits'\n",
    "dir_cube='out_lvm_sim/'\n",
    "\n",
    "hdr0=fits.getheader(dir_cube+cube_file, 0)\n",
    "Target,hdr1=fits.getdata(dir_cube+cube_file, 1, header=True)\n",
    "Total,hdr2=fits.getdata(dir_cube+cube_file, 2, header=True)\n",
    "Err,hdr3=fits.getdata(dir_cube+cube_file, 3, header=True)\n",
    "SNR,hdr4=fits.getdata(dir_cube+cube_file, 4, header=True)\n",
    "Sky,hdr5=fits.getdata(dir_cube+cube_file, 5, header=True)\n",
    "Wave,hdr6=fits.getdata(dir_cube+cube_file, 6, header=True)\n",
    "hdu_list = fits.open(dir_cube+cube_file)\n",
    "table_hdu = hdu_list[7]\n",
    "table_data = table_hdu.data\n",
    "header = table_hdu.header\n",
    "fibid=table_data.field('id')\n",
    "nx,ny=Target.shape\n",
    "\n",
    "import matplotlib.pyplot as plt\n",
    "fig, ax = plt.subplots(figsize=(6.8*1.1,5.5*1.2))\n",
    "plt.plot(Wave,Target[30,:],'-',color='black')\n",
    "plt.plot(Wave,Total[30,:],'-',color='green')\n",
    "#plt.plot(Wave,Err[30,:],'-',color='blue')\n",
    "#plt.plot(Wave,SNR[30,:],'-',color='gray')\n",
    "#plt.plot(Wave,Sky[30,:],'-',color='red')\n",
    "plt.show()"
   ]
  },
  {
   "cell_type": "markdown",
   "id": "03804828",
   "metadata": {},
   "source": [
    "Load the wavelength solution"
   ]
  },
  {
   "cell_type": "code",
   "execution_count": 3,
   "id": "9f5e9e92",
   "metadata": {},
   "outputs": [],
   "source": [
    "from scipy.interpolate.interpolate import interp1d\n",
    "import numpy as np\n",
    "if typ == 'blue':\n",
    "    expn='00002998'\n",
    "    cam='b1'\n",
    "if typ == 'red':\n",
    "    expn='00001563'\n",
    "    cam='r1'\n",
    "if typ == 'nir':\n",
    "    expn='00001563'\n",
    "    cam='z1'\n",
    "    \n",
    "cube_file='drp_input/'+typ+'-channel-data/sdR-s-'+cam+'-'+expn+'.disp.fits'\n",
    "blue_s,hdrB=fits.getdata(cube_file, 0, header=True)\n",
    "wave_s=np.nanmean(blue_s,axis=0)\n",
    "nyt=len(wave_s)\n",
    "pixel=np.arange(0,len(wave_s))\n",
    "\n",
    "Pix=interp1d(wave_s,pixel,bounds_error=False,fill_value=-10)(Wave)    \n",
    "    \n"
   ]
  },
  {
   "cell_type": "markdown",
   "id": "d17e666e",
   "metadata": {},
   "source": [
    "Run the 2D projection module"
   ]
  },
  {
   "cell_type": "code",
   "execution_count": null,
   "id": "5e7777c0",
   "metadata": {},
   "outputs": [
    {
     "name": "stdout",
     "output_type": "stream",
     "text": [
      "1 r1\n"
     ]
    }
   ],
   "source": [
    "mjd=str(int(hdr0[\"MJD\"]))\n",
    "expt=hdr0[\"EXPTIME\"]\n",
    "ra=hdr0[\"RA\"]\n",
    "dec=hdr0[\"DEC\"]\n",
    "nfib=648\n",
    "ntt=150\n",
    "spectra=np.zeros([nyt-1000,nfib*3])\n",
    "indx_t=np.arange(nfib*3,dtype=int)+1\n",
    "import random\n",
    "random.shuffle(indx_t)\n",
    "for i in range(0, nx):\n",
    "    for j in range(800-ntt, nyt-200-ntt):\n",
    "        nt=np.where((Pix >= j) & (Pix < j+1))[0]\n",
    "        val=np.nansum(Total[i,nt])\n",
    "        spectra[j-800+ntt,i]=val\n",
    "\n",
    "id_t=np.zeros(nfib*3,dtype=int)\n",
    "id_t[0:nx]=np.copy(fibid)+1\n",
    "for i in range(nx,nfib*3):\n",
    "    id_t[i]=i+1\n",
    "id_t=indx_t\n",
    "twodlvm.run_2d(spectra,id_t,nfib=nfib,type=typ,cam=1,expN=0,expt=expt,ra=ra,dec=dec,mjd=mjd,field_name='00000',base_name=base_name)\n",
    "twodlvm.run_2d(spectra,id_t,nfib=nfib,type=typ,cam=2,expN=0,expt=expt,ra=ra,dec=dec,mjd=mjd,field_name='00000',base_name=base_name)\n",
    "twodlvm.run_2d(spectra,id_t,nfib=nfib,type=typ,cam=3,expN=0,expt=expt,ra=ra,dec=dec,mjd=mjd,field_name='00000',base_name=base_name)"
   ]
  },
  {
   "cell_type": "code",
   "execution_count": null,
   "id": "3fdafe96",
   "metadata": {},
   "outputs": [],
   "source": []
  }
 ],
 "metadata": {
  "kernelspec": {
   "display_name": "Python 3",
   "language": "python",
   "name": "python3"
  },
  "language_info": {
   "codemirror_mode": {
    "name": "ipython",
    "version": 3
   },
   "file_extension": ".py",
   "mimetype": "text/x-python",
   "name": "python",
   "nbconvert_exporter": "python",
   "pygments_lexer": "ipython3",
   "version": "3.7.3"
  }
 },
 "nbformat": 4,
 "nbformat_minor": 5
}
