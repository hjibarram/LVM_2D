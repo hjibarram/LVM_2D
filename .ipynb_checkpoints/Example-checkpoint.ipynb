{
 "cells": [
  {
   "cell_type": "markdown",
   "id": "3528c784",
   "metadata": {},
   "source": [
    "Load the 2d script"
   ]
  },
  {
   "cell_type": "code",
   "execution_count": 48,
   "id": "f99b2ed7",
   "metadata": {},
   "outputs": [],
   "source": [
    "import imp\n",
    "from astropy.io import fits\n",
    "import glob, os, sys\n",
    "twodlvm = imp.load_source('2d_LVM', '2d_projection.py')"
   ]
  },
  {
   "cell_type": "markdown",
   "id": "2338bd09",
   "metadata": {},
   "source": [
    "Create the spectrograph PSF maps"
   ]
  },
  {
   "cell_type": "code",
   "execution_count": null,
   "id": "e11128b4",
   "metadata": {},
   "outputs": [],
   "source": [
    "twodlvm.get_focus(dir1='libs/',name='focus_lvm_blue1',dsx=1.1,dsy=0.8,rho=0.5,vt1=0.1,vt2=0.1,vt3=0.05,lt=1500.)\n",
    "twodlvm.get_focus(dir1='libs/',name='focus_lvm_red1',dsx=1.1,dsy=0.8,rho=0.5,vt1=0.1,vt2=0.1,vt3=0.05,lt=1500.)\n",
    "twodlvm.get_focus(dir1='libs/',name='focus_lvm_ir1',dsx=1.1,dsy=0.8,rho=0.5,vt1=0.1,vt2=0.1,vt3=0.05,lt=1500.)\n",
    "\n",
    "twodlvm.get_focus(dir1='libs/',name='focus_lvm_blue2',dsx=1.1,dsy=0.8,rho=0.5,vt1=0.1,vt2=0.1,vt3=0.05,lt=1500.)\n",
    "twodlvm.get_focus(dir1='libs/',name='focus_lvm_red2',dsx=1.1,dsy=0.8,rho=0.5,vt1=0.1,vt2=0.1,vt3=0.05,lt=1500.)\n",
    "twodlvm.get_focus(dir1='libs/',name='focus_lvm_ir2',dsx=1.1,dsy=0.8,rho=0.5,vt1=0.1,vt2=0.1,vt3=0.05,lt=1500.)\n",
    "\n",
    "twodlvm.get_focus(dir1='libs/',name='focus_lvm_blue3',dsx=1.1,dsy=0.8,rho=0.5,vt1=0.1,vt2=0.1,vt3=0.05,lt=1500.)\n",
    "twodlvm.get_focus(dir1='libs/',name='focus_lvm_red3',dsx=1.1,dsy=0.8,rho=0.5,vt1=0.1,vt2=0.1,vt3=0.05,lt=1500.)\n",
    "twodlvm.get_focus(dir1='libs/',name='focus_lvm_ir3',dsx=1.1,dsy=0.8,rho=0.5,vt1=0.1,vt2=0.1,vt3=0.05,lt=1500.)"
   ]
  },
  {
   "cell_type": "markdown",
   "id": "b1663e76",
   "metadata": {},
   "source": [
    "Read de output files from the LVM_sim"
   ]
  },
  {
   "cell_type": "code",
   "execution_count": 29,
   "id": "ef476939",
   "metadata": {},
   "outputs": [
    {
     "data": {
      "image/png": "[encoded data removed]",
      "text/plain": [
       "<Figure size 538.56x475.2 with 1 Axes>"
      ]
     },
     "metadata": {
      "needs_background": "light"
     },
     "output_type": "display_data"
    }
   ],
   "source": [
    "typ='ir'\n",
    "base_name='reference'\n",
    "base_name='LVM_customneb2_example'\n",
    "base_name='LVM_test'\n",
    "exptime='21600'\n",
    "\n",
    "cube_file=base_name+'_'+typ+'_full_'+exptime+'_no_noise.fits'\n",
    "dir_cube='out_lvm_sim/'\n",
    "\n",
    "hdr0=fits.getheader(dir_cube+cube_file, 0)\n",
    "Target,hdr1=fits.getdata(dir_cube+cube_file, 1, header=True)\n",
    "Total,hdr2=fits.getdata(dir_cube+cube_file, 2, header=True)\n",
    "Err,hdr3=fits.getdata(dir_cube+cube_file, 3, header=True)\n",
    "SNR,hdr4=fits.getdata(dir_cube+cube_file, 4, header=True)\n",
    "Sky,hdr5=fits.getdata(dir_cube+cube_file, 5, header=True)\n",
    "Wave,hdr6=fits.getdata(dir_cube+cube_file, 6, header=True)\n",
    "hdu_list = fits.open(dir_cube+cube_file)\n",
    "table_hdu = hdu_list[7]\n",
    "table_data = table_hdu.data\n",
    "header = table_hdu.header\n",
    "fibid=table_data.field('id')\n",
    "nx,ny=Target.shape\n",
    "\n",
    "import matplotlib.pyplot as plt\n",
    "fig, ax = plt.subplots(figsize=(6.8*1.1,5.5*1.2))\n",
    "plt.plot(Wave,Target[30,:],'-',color='black')\n",
    "plt.plot(Wave,Total[30,:],'-',color='green')\n",
    "#plt.plot(Wave,Err[30,:],'-',color='blue')\n",
    "#plt.plot(Wave,SNR[30,:],'-',color='gray')\n",
    "#plt.plot(Wave,Sky[30,:],'-',color='red')\n",
    "plt.show()"
   ]
  },
  {
   "cell_type": "markdown",
   "id": "de405573",
   "metadata": {},
   "source": [
    "Define the flat exposures"
   ]
  },
  {
   "cell_type": "code",
   "execution_count": 41,
   "id": "2e5fabf8",
   "metadata": {},
   "outputs": [],
   "source": [
    "Flat=False\n",
    "from scipy.interpolate.interpolate import interp1d\n",
    "import numpy as np\n",
    "if Flat:\n",
    "    Target0,hdr1=fits.getdata(dir_cube+cube_file.replace('_no_noise','_input').replace('_21600',''), 1, header=True)\n",
    "\n",
    "    Rst=Target[30,:]/Target0[30,:]\n",
    "    Rst=Rst/np.nanmean(Rst)\n",
    "    nt=np.where(np.isfinite(Rst))\n",
    "    Wave1=np.copy(Wave)\n",
    "    Rst1=np.copy(Rst)\n",
    "    Wave1=Wave1[nt]\n",
    "    Rst1=Rst1[nt]\n",
    "    RstN=interp1d(Wave1,Rst1,bounds_error=False,fill_value=0)(Wave) \n",
    "\n",
    "    ke=1000\n",
    "    krn=ke/(Wave[1]-Wave[0])\n",
    "    from scipy import signal\n",
    "    ker=signal.gaussian(500, krn )\n",
    "    ker=ker/np.sum(ker)\n",
    "    RstM=np.convolve(RstN,ker,mode=\"same\")\n",
    "\n",
    "    fig, ax = plt.subplots(figsize=(6.8*1.1,5.5*1.2))\n",
    "    plt.plot(Wave1,Rst1,'-',color='green')\n",
    "    plt.plot(Wave,Rst,'-',color='red')\n",
    "    plt.plot(Wave,RstM,'-',color='blue')\n",
    "    plt.show()\n",
    "\n",
    "    RstM=RstM*5000\n"
   ]
  },
  {
   "cell_type": "markdown",
   "id": "5c83a5de",
   "metadata": {},
   "source": [
    "Define the Arc exposures"
   ]
  },
  {
   "cell_type": "code",
   "execution_count": 49,
   "id": "85171d86",
   "metadata": {},
   "outputs": [
    {
     "data": {
      "image/png": "[encoded data removed]",
      "text/plain": [
       "<Figure size 538.56x475.2 with 1 Axes>"
      ]
     },
     "metadata": {
      "needs_background": "light"
     },
     "output_type": "display_data"
    }
   ],
   "source": [
    "Arc=True\n",
    "if Arc:\n",
    "    arc_spec=twodlvm.ssp_extract_arc(Wave,dir_tem='libs/',col=typ)\n",
    "    #[pix_b,wave_b,dwave_b]=ssp_extract_lambdpix(dir_tem=dirtemp,col=\"b\")\n",
    "    #[pix_r,wave_r,dwave_r]=ssp_extract_lambdpix(dir_tem=dirtemp,col=\"r\")\n",
    "    #spec_b=interp1d(wave_f_b,spec_ifu_b,bounds_error=False,fill_value=0.0)(wave_b)\n",
    "    #spec_r=interp1d(wave_f_r,spec_ifu_r,bounds_error=False,fill_value=0.0)(wave_r)\n",
    "    fig, ax = plt.subplots(figsize=(6.8*1.1,5.5*1.2))\n",
    "    #plt.plot(Wave1,Rst1,'-',color='green')\n",
    "    plt.plot(Wave,arc_spec,'-',color='red')\n",
    "    #plt.plot(Wave,RstM,'-',color='blue')\n",
    "    plt.show()"
   ]
  },
  {
   "cell_type": "markdown",
   "id": "03804828",
   "metadata": {},
   "source": [
    "Load the wavelength solution"
   ]
  },
  {
   "cell_type": "code",
   "execution_count": 63,
   "id": "9f5e9e92",
   "metadata": {},
   "outputs": [
    {
     "name": "stdout",
     "output_type": "stream",
     "text": [
      "[221.57522796 222.35307517 223.13069909 223.90881459 224.68745247\n",
      " 225.46722561 226.24658574 227.02364607 227.80472921 228.58314351\n",
      " 229.36176695 230.14144487 230.92015209 231.70045732 232.47875569\n",
      " 233.25744843 234.03939394 234.81515152 235.59360731 236.37290715\n",
      " 237.15197568 237.93009119 238.70982483 239.48934551 240.26926011\n",
      " 241.05007587 241.82701062 242.60624524 243.38584475 244.16527037\n",
      " 244.94516375 245.72340426 246.50420168 247.28495441 248.06335878\n",
      " 248.84503817 249.62338648 250.40305344 251.18347233 251.95981804\n",
      " 252.7395278  253.51902588 254.29855293 255.07844631 255.85833968\n",
      " 256.63677812 257.41647597 258.19725819 258.97715156 259.75762195\n",
      " 260.53688213 261.31655225 262.09741248 262.87671233 263.6570122\n",
      " 264.43683409 265.21662853 265.99771167 266.77760853 267.55707763\n",
      " 268.33612167 269.11517925 269.8962624  270.67631379 271.45690313\n",
      " 272.23744292 273.01679389 273.79847328 274.5775076  275.35752483\n",
      " 276.1391635  276.91787072 277.69977082 278.47984791 279.25974026\n",
      " 280.0418251  280.82053232 281.60198625 282.38250951 283.16195569\n",
      " 283.94423224 284.72319392 285.50420168 286.2851711  287.06422018\n",
      " 287.8470948  288.62613982 289.40672783 290.18873668 290.96803653\n",
      " 291.74961832 292.52968037 293.31039755 294.09277567 294.87148289\n",
      " 295.65317036 296.43412034 297.21450382 297.99618321 298.77726926]\n"
     ]
    },
    {
     "data": {
      "image/png": "[encoded data removed]",
      "text/plain": [
       "<Figure size 538.56x475.2 with 1 Axes>"
      ]
     },
     "metadata": {
      "needs_background": "light"
     },
     "output_type": "display_data"
    }
   ],
   "source": [
    "from scipy.interpolate.interpolate import interp1d\n",
    "import numpy as np\n",
    "if typ == 'blue':\n",
    "    expn='00002998'\n",
    "    cam='b1'\n",
    "if typ == 'red':\n",
    "    expn='00001563'\n",
    "    cam='r1'\n",
    "if typ == 'ir':\n",
    "    expn='00001563'\n",
    "    cam='z1'\n",
    "    \n",
    "cube_file='drp_input/'+typ+'-channel-data/sdR-s-'+cam+'-'+expn+'.disp.fits'\n",
    "blue_s,hdrB=fits.getdata(cube_file, 0, header=True)\n",
    "wave_s=np.nanmean(blue_s,axis=0)\n",
    "nyt=len(wave_s)\n",
    "pixel=np.arange(0,len(wave_s))\n",
    "\n",
    "Pix=interp1d(wave_s,pixel,bounds_error=False,fill_value=-10)(Wave)    \n",
    "print(Pix[400:500])    \n",
    "fig, ax = plt.subplots(figsize=(6.8*1.1,5.5*1.2))\n",
    "#plt.plot(Wave1,Rst1,'-',color='green')\n",
    "plt.plot(Pix,arc_spec,'-',color='red')\n",
    "#plt.plot(Wave,RstM,'-',color='blue')\n",
    "#plt.xlim(1030,1140)\n",
    "plt.show()"
   ]
  },
  {
   "cell_type": "markdown",
   "id": "d17e666e",
   "metadata": {},
   "source": [
    "Run the 2D projection module"
   ]
  },
  {
   "cell_type": "code",
   "execution_count": 69,
   "id": "5e7777c0",
   "metadata": {},
   "outputs": [
    {
     "data": {
      "image/png": "[encoded data removed]",
      "text/plain": [
       "<Figure size 432x288 with 1 Axes>"
      ]
     },
     "metadata": {
      "needs_background": "light"
     },
     "output_type": "display_data"
    }
   ],
   "source": [
    "mjd=str(int(hdr0[\"MJD\"]))\n",
    "expt=hdr0[\"EXPTIME\"]\n",
    "ra=hdr0[\"RA\"]\n",
    "dec=hdr0[\"DEC\"]\n",
    "name=hdr0[\"TARGET\"]\n",
    "nfib=648\n",
    "ntt=150\n",
    "expN=2\n",
    "\n",
    "spectra=np.zeros([nyt-1000,nfib*3])\n",
    "indx_t=np.arange(nfib*3,dtype=int)+1\n",
    "import random\n",
    "random.shuffle(indx_t)\n",
    "\n",
    "nxt=nx\n",
    "flb='s'\n",
    "n_cr=int(150*expt/900.0)\n",
    "if Flat:\n",
    "    nxt=nfib*3\n",
    "    flb='f'\n",
    "    n_cr=50\n",
    "    Arc=False\n",
    "if Arc:\n",
    "    nxt=nfib*3\n",
    "    flb='a'\n",
    "    n_cr=30\n",
    "    Flat=False\n",
    "for j in range(800-ntt, nyt-200-ntt):\n",
    "    for i in range(0, nxt):\n",
    "        if Flat:\n",
    "            if i == 0:\n",
    "                nt=np.where((Pix >= j) & (Pix < j+1))[0]\n",
    "                val=np.nansum(RstM[nt])\n",
    "        elif Arc:\n",
    "            if i == 0:\n",
    "                nt=np.where((Pix >= j) & (Pix < j+1))[0]\n",
    "                val=np.nansum(arc_spec[nt])\n",
    "        else:\n",
    "            nt=np.where((Pix >= j) & (Pix < j+1))[0]\n",
    "            val=np.nansum(Total[i,nt])\n",
    "        spectra[j-800+ntt,i]=val\n",
    "\n",
    "#plt.xlim(990,1000)        \n",
    "#plt.plot(np.nanmean(spectra,axis=1))        \n",
    "id_t=np.zeros(nfib*3,dtype=int)\n",
    "id_t[0:nx]=np.copy(fibid)+1\n",
    "for i in range(nx,nfib*3):\n",
    "    id_t[i]=i+1\n",
    "id_t=indx_t\n",
    "twodlvm.run_2d(spectra,id_t,nfib=nfib,type=typ,cam=1,n_cr=n_cr,expN=expN,expt=expt,ra=ra,dec=dec,mjd=mjd,field_name=name,flb=flb,base_name='sdR')\n",
    "twodlvm.run_2d(spectra,id_t,nfib=nfib,type=typ,cam=2,n_cr=n_cr,expN=expN,expt=expt,ra=ra,dec=dec,mjd=mjd,field_name=name,flb=flb,base_name='sdR')\n",
    "twodlvm.run_2d(spectra,id_t,nfib=nfib,type=typ,cam=3,n_cr=n_cr,expN=expN,expt=expt,ra=ra,dec=dec,mjd=mjd,field_name=name,flb=flb,base_name='sdR')"
   ]
  },
  {
   "cell_type": "code",
   "execution_count": null,
   "id": "3fdafe96",
   "metadata": {},
   "outputs": [],
   "source": []
  }
 ],
 "metadata": {
  "kernelspec": {
   "display_name": "Python 3",
   "language": "python",
   "name": "python3"
  },
  "language_info": {
   "codemirror_mode": {
    "name": "ipython",
    "version": 3
   },
   "file_extension": ".py",
   "mimetype": "text/x-python",
   "name": "python",
   "nbconvert_exporter": "python",
   "pygments_lexer": "ipython3",
   "version": "3.7.3"
  }
 },
 "nbformat": 4,
 "nbformat_minor": 5
}
