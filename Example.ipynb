{
 "cells": [
  {
   "cell_type": "markdown",
   "id": "3528c784",
   "metadata": {},
   "source": [
    "Load the 2d script"
   ]
  },
  {
   "cell_type": "code",
   "execution_count": 1,
   "id": "f99b2ed7",
   "metadata": {},
   "outputs": [],
   "source": [
    "import imp\n",
    "from astropy.io import fits\n",
    "import glob, os, sys\n",
    "twodlvm = imp.load_source('2d_LVM', '2d_projection.py')"
   ]
  },
  {
   "cell_type": "markdown",
   "id": "2338bd09",
   "metadata": {},
   "source": [
    "Create the spectrograph PSF maps"
   ]
  },
  {
   "cell_type": "code",
   "execution_count": 2,
   "id": "e11128b4",
   "metadata": {},
   "outputs": [],
   "source": [
    "psf_m=False\n",
    "if psf_m:\n",
    "    twodlvm.get_focus(dir1='libs/',name='focus_lvm_blue1',dsx=1.1,dsy=0.8,rho=0.5,vt1=0.1,vt2=0.1,vt3=0.05,lt=1500.)\n",
    "    twodlvm.get_focus(dir1='libs/',name='focus_lvm_red1',dsx=1.1,dsy=0.8,rho=0.5,vt1=0.1,vt2=0.1,vt3=0.05,lt=1500.)\n",
    "    twodlvm.get_focus(dir1='libs/',name='focus_lvm_ir1',dsx=1.1,dsy=0.8,rho=0.5,vt1=0.1,vt2=0.1,vt3=0.05,lt=1500.)\n",
    "\n",
    "    twodlvm.get_focus(dir1='libs/',name='focus_lvm_blue2',dsx=1.1,dsy=0.8,rho=0.5,vt1=0.1,vt2=0.1,vt3=0.05,lt=1500.)\n",
    "    twodlvm.get_focus(dir1='libs/',name='focus_lvm_red2',dsx=1.1,dsy=0.8,rho=0.5,vt1=0.1,vt2=0.1,vt3=0.05,lt=1500.)\n",
    "    twodlvm.get_focus(dir1='libs/',name='focus_lvm_ir2',dsx=1.1,dsy=0.8,rho=0.5,vt1=0.1,vt2=0.1,vt3=0.05,lt=1500.)\n",
    "\n",
    "    twodlvm.get_focus(dir1='libs/',name='focus_lvm_blue3',dsx=1.1,dsy=0.8,rho=0.5,vt1=0.1,vt2=0.1,vt3=0.05,lt=1500.)\n",
    "    twodlvm.get_focus(dir1='libs/',name='focus_lvm_red3',dsx=1.1,dsy=0.8,rho=0.5,vt1=0.1,vt2=0.1,vt3=0.05,lt=1500.)\n",
    "    twodlvm.get_focus(dir1='libs/',name='focus_lvm_ir3',dsx=1.1,dsy=0.8,rho=0.5,vt1=0.1,vt2=0.1,vt3=0.05,lt=1500.)"
   ]
  },
  {
   "cell_type": "markdown",
   "id": "b1663e76",
   "metadata": {},
   "source": [
    "Read de output files from the LVM_sim"
   ]
  },
  {
   "cell_type": "code",
   "execution_count": 3,
   "id": "ef476939",
   "metadata": {},
   "outputs": [
    {
     "data": {
      "image/png": "[encoded data removed]",
      "text/plain": [
       "<Figure size 538.56x475.2 with 1 Axes>"
      ]
     },
     "metadata": {
      "needs_background": "light"
     },
     "output_type": "display_data"
    }
   ],
   "source": [
    "import matplotlib.pyplot as plt\n",
    "import numpy as np\n",
    "typ='blue'\n",
    "base_name='reference'\n",
    "base_name='LVM_customneb2_example'\n",
    "base_name='LVM_test'\n",
    "base_name='LVM_example'\n",
    "exptime='900'#'21600'\n",
    "\n",
    "cube_file=base_name+'_'+typ+'_full_'+exptime+'_no_noise.fits'\n",
    "dir_cube='out_lvm_sim/'\n",
    "\n",
    "hdr0=fits.getheader(dir_cube+cube_file, 0)\n",
    "Target,hdr1=fits.getdata(dir_cube+cube_file, 1, header=True)\n",
    "Total,hdr2=fits.getdata(dir_cube+cube_file, 2, header=True)\n",
    "Err,hdr3=fits.getdata(dir_cube+cube_file, 3, header=True)\n",
    "SNR,hdr4=fits.getdata(dir_cube+cube_file, 4, header=True)\n",
    "Sky,hdr5=fits.getdata(dir_cube+cube_file, 5, header=True)\n",
    "Wave,hdr6=fits.getdata(dir_cube+cube_file, 6, header=True)\n",
    "hdu_list = fits.open(dir_cube+cube_file)\n",
    "table_hdu = hdu_list[7]\n",
    "table_data = table_hdu.data\n",
    "header = table_hdu.header\n",
    "fibid=table_data.field('id')\n",
    "nx,ny=Target.shape\n",
    "nxf,nyf=nx,ny\n",
    "Total_F=np.copy(Total)\n",
    "fibid_F=np.copy(fibid)\n",
    "\n",
    "fig, ax = plt.subplots(figsize=(6.8*1.1,5.5*1.2))\n",
    "plt.plot(Wave,Target[30,:],'-',color='black')\n",
    "plt.plot(Wave,Total[30,:],'-',color='green')\n",
    "#plt.plot(Wave,Err[30,:],'-',color='blue')\n",
    "#plt.plot(Wave,SNR[30,:],'-',color='gray')\n",
    "#plt.plot(Wave,Sky[30,:],'-',color='red')\n",
    "plt.show()"
   ]
  },
  {
   "cell_type": "markdown",
   "id": "3e224636",
   "metadata": {},
   "source": [
    "Define Sky bundles"
   ]
  },
  {
   "cell_type": "code",
   "execution_count": 4,
   "id": "2cd7802e",
   "metadata": {},
   "outputs": [
    {
     "data": {
      "image/png": "[encoded data removed]",
      "text/plain": [
       "<Figure size 538.56x475.2 with 1 Axes>"
      ]
     },
     "metadata": {
      "needs_background": "light"
     },
     "output_type": "display_data"
    }
   ],
   "source": [
    "Sky=True\n",
    "if Sky:\n",
    "    exptime_sky='900'\n",
    "    sky_nameA='LVM_skyA'\n",
    "    sky_nameB='LVM_skyB'\n",
    "\n",
    "    sky_fileA=sky_nameA+'_'+typ+'_full_'+exptime_sky+'_no_noise.fits'\n",
    "    sky_fileB=sky_nameB+'_'+typ+'_full_'+exptime_sky+'_no_noise.fits'\n",
    "    dir_cube='out_lvm_sim/'\n",
    "\n",
    "    Total_SkyA,hdr2_skyA=fits.getdata(dir_cube+sky_fileA, 2, header=True)\n",
    "    Wave_SkyA,hdr6_skyA=fits.getdata(dir_cube+sky_fileA, 6, header=True)\n",
    "    hdu_skyA = fits.open(dir_cube+sky_fileA)\n",
    "    table_hdu_skyA = hdu_skyA[7]\n",
    "    table_data_skyA = table_hdu_skyA.data\n",
    "    fibid_skyA=table_data_skyA.field('id')\n",
    "    nx_sA,ny_sA=Total_SkyA.shape\n",
    "\n",
    "    Total_SkyB,hdr2_skyB=fits.getdata(dir_cube+sky_fileB, 2, header=True)\n",
    "    Wave_SkyB,hdr6_skyB=fits.getdata(dir_cube+sky_fileB, 6, header=True)\n",
    "    hdu_skyB = fits.open(dir_cube+sky_fileB)\n",
    "    table_hdu_skyB = hdu_skyB[7]\n",
    "    table_data_skyB = table_hdu_skyB.data\n",
    "    fibid_skyB=table_data_skyB.field('id')\n",
    "    nx_sB,ny_sB=Total_SkyB.shape\n",
    "\n",
    "    import matplotlib.pyplot as plt\n",
    "    fig, ax = plt.subplots(figsize=(6.8*1.1,5.5*1.2))\n",
    "    plt.plot(Wave_SkyA,Total_SkyA[30,:],'-',color='black')\n",
    "    plt.plot(Wave_SkyB,Total_SkyB[30,:],'-',color='red')\n",
    "    plt.show()\n",
    "\n",
    "    from scipy.interpolate.interpolate import interp1d\n",
    "    import numpy as np\n",
    "\n",
    "    fibid_F=np.zeros(nx+nx_sA+nx_sB,dtype=int)\n",
    "    Total_F=np.zeros([nx+nx_sA+nx_sB,ny])\n",
    "    Total_F[0:nx,:]=Total\n",
    "    fibid_F[0:nx]=fibid\n",
    "    for i in range(0, nx_sA):\n",
    "        Temp=interp1d(Wave_SkyA,Total_SkyA[i,:],bounds_error=False,fill_value=0)(Wave)\n",
    "        Total_F[i+nx,:]=Temp\n",
    "        fibid_F[i+nx]=i+nx+1\n",
    "    for i in range(0, nx_sB):\n",
    "        Temp=interp1d(Wave_SkyB,Total_SkyB[i,:],bounds_error=False,fill_value=0)(Wave)\n",
    "        Total_F[i+nx+nx_sA,:]=Temp\n",
    "        fibid_F[i+nx+nx_sA]=i+nx+nx_sA+1\n",
    "    nxf,nyf=Total_F.shape    "
   ]
  },
  {
   "cell_type": "markdown",
   "id": "de405573",
   "metadata": {},
   "source": [
    "Define the flat exposures"
   ]
  },
  {
   "cell_type": "code",
   "execution_count": 5,
   "id": "2e5fabf8",
   "metadata": {},
   "outputs": [],
   "source": [
    "Flat=False\n",
    "from scipy.interpolate.interpolate import interp1d\n",
    "import numpy as np\n",
    "if Flat:\n",
    "    Target0,hdr1=fits.getdata(dir_cube+cube_file.replace('_no_noise','_input').replace('_'+exptime,''), 1, header=True)\n",
    "\n",
    "    Rst=Target[30,:]/Target0[30,:]\n",
    "    Rst=Rst/np.nanmean(Rst)\n",
    "    nt=np.where(np.isfinite(Rst))\n",
    "    Wave1=np.copy(Wave)\n",
    "    Rst1=np.copy(Rst)\n",
    "    Wave1=Wave1[nt]\n",
    "    Rst1=Rst1[nt]\n",
    "    RstN=interp1d(Wave1,Rst1,bounds_error=False,fill_value=0)(Wave) \n",
    "\n",
    "    ke=1000\n",
    "    krn=ke/(Wave[1]-Wave[0])\n",
    "    from scipy import signal\n",
    "    ker=signal.gaussian(500, krn )\n",
    "    ker=ker/np.sum(ker)\n",
    "    RstM=np.convolve(RstN,ker,mode=\"same\")\n",
    "\n",
    "    fig, ax = plt.subplots(figsize=(6.8*1.1,5.5*1.2))\n",
    "    plt.plot(Wave1,Rst1,'-',color='green')\n",
    "    plt.plot(Wave,Rst,'-',color='red')\n",
    "    plt.plot(Wave,RstM,'-',color='blue')\n",
    "    plt.show()\n",
    "\n",
    "    RstM=RstM*5000\n"
   ]
  },
  {
   "cell_type": "markdown",
   "id": "735fe4c7",
   "metadata": {},
   "source": [
    "Define the Arc exposures"
   ]
  },
  {
   "cell_type": "code",
   "execution_count": 6,
   "id": "88e54bfa",
   "metadata": {},
   "outputs": [],
   "source": [
    "Arc=False\n",
    "if Arc:\n",
    "    arc_spec=twodlvm.ssp_extract_arc(Wave,dir_tem='libs/',col=typ)\n",
    "    arc_spec=arc_spec*4\n",
    "    fig, ax = plt.subplots(figsize=(6.8*1.1,5.5*1.2))\n",
    "    #plt.plot(Wave1,Rst1,'-',color='green')\n",
    "    plt.plot(Wave,arc_spec,'-',color='red')\n",
    "    #plt.plot(Wave,RstM,'-',color='blue')\n",
    "    plt.show()"
   ]
  },
  {
   "cell_type": "markdown",
   "id": "03804828",
   "metadata": {},
   "source": [
    "Load the wavelength solution"
   ]
  },
  {
   "cell_type": "code",
   "execution_count": 7,
   "id": "9f5e9e92",
   "metadata": {},
   "outputs": [],
   "source": [
    "from scipy.interpolate.interpolate import interp1d\n",
    "import numpy as np\n",
    "if typ == 'blue':\n",
    "    expn='00002998'\n",
    "    cam='b1'\n",
    "if typ == 'red':\n",
    "    expn='00001563'\n",
    "    cam='r1'\n",
    "if typ == 'ir':\n",
    "    expn='00001563'\n",
    "    cam='z1'\n",
    "    \n",
    "cube_file='drp_input/'+typ+'-channel-data/sdR-s-'+cam+'-'+expn+'.disp.fits'\n",
    "blue_s,hdrB=fits.getdata(cube_file, 0, header=True)\n",
    "wave_s=np.nanmean(blue_s,axis=0)\n",
    "nyt=len(wave_s)\n",
    "pixel=np.arange(0,len(wave_s))\n",
    "Pix=interp1d(wave_s,pixel,bounds_error=False,fill_value=-10)(Wave)    \n",
    "\n",
    "#fig, ax = plt.subplots(figsize=(6.8*1.1,5.5*1.2))\n",
    "#plt.plot(Pix,arc_spec,'-',color='red')\n",
    "#plt.show()"
   ]
  },
  {
   "cell_type": "markdown",
   "id": "d17e666e",
   "metadata": {},
   "source": [
    "Run the 2D projection module"
   ]
  },
  {
   "cell_type": "code",
   "execution_count": null,
   "id": "5e7777c0",
   "metadata": {},
   "outputs": [
    {
     "name": "stdout",
     "output_type": "stream",
     "text": [
      "1 b1\n",
      "Using default PSF =1 pixel\n",
      "1 b2\n",
      "Using default PSF =1 pixel\n"
     ]
    }
   ],
   "source": [
    "mjd=str(int(hdr0[\"MJD\"]))\n",
    "expt=hdr0[\"EXPTIME\"]\n",
    "ra=hdr0[\"RA\"]\n",
    "dec=hdr0[\"DEC\"]\n",
    "name=hdr0[\"TARGET\"]\n",
    "nfib=648\n",
    "ntt=150\n",
    "expN=3\n",
    "\n",
    "spectra=np.zeros([nyt-1000,nfib*3])\n",
    "indx_t=np.arange(nfib*3,dtype=int)+1\n",
    "import random\n",
    "random.shuffle(indx_t)\n",
    "\n",
    "nxt=nxf\n",
    "flb='s'\n",
    "n_cr=int(150*expt/900.0)\n",
    "if Flat:\n",
    "    nxt=nfib*3\n",
    "    flb='f'\n",
    "    n_cr=50\n",
    "    Arc=False\n",
    "if Arc:\n",
    "    nxt=nfib*3\n",
    "    flb='a'\n",
    "    n_cr=30\n",
    "    Flat=False\n",
    "for j in range(800-ntt, nyt-200-ntt):\n",
    "    for i in range(0, nxt):\n",
    "        if Flat:\n",
    "            if i == 0:\n",
    "                nt=np.where((Pix >= j) & (Pix < j+1))[0]\n",
    "                val=np.nansum(RstM[nt])\n",
    "        elif Arc:\n",
    "            if i == 0:\n",
    "                nt=np.where((Pix >= j) & (Pix < j+1))[0]\n",
    "                val=np.nansum(arc_spec[nt])\n",
    "        else:\n",
    "            nt=np.where((Pix >= j) & (Pix < j+1))[0]\n",
    "            val=np.nansum(Total_F[i,nt])\n",
    "        spectra[j-800+ntt,i]=val\n",
    "\n",
    "#plt.xlim(990,1000)        \n",
    "#plt.plot(np.nanmean(spectra,axis=1))        \n",
    "id_t=np.zeros(nfib*3,dtype=int)\n",
    "id_t[0:nxf]=np.copy(fibid_F)+1\n",
    "for i in range(nxf,nfib*3):\n",
    "    id_t[i]=i+1\n",
    "#id_t=indx_t\n",
    "twodlvm.run_2d(spectra,id_t,nfib=nfib,type=typ,cam=1,n_cr=n_cr,expN=expN,expt=expt,ra=ra,dec=dec,mjd=mjd,field_name=name,flb=flb,base_name='sdR')\n",
    "twodlvm.run_2d(spectra,id_t,nfib=nfib,type=typ,cam=2,n_cr=n_cr,expN=expN,expt=expt,ra=ra,dec=dec,mjd=mjd,field_name=name,flb=flb,base_name='sdR')\n",
    "twodlvm.run_2d(spectra,id_t,nfib=nfib,type=typ,cam=3,n_cr=n_cr,expN=expN,expt=expt,ra=ra,dec=dec,mjd=mjd,field_name=name,flb=flb,base_name='sdR')"
   ]
  },
  {
   "cell_type": "code",
   "execution_count": null,
   "id": "3fdafe96",
   "metadata": {},
   "outputs": [],
   "source": []
  }
 ],
 "metadata": {
  "kernelspec": {
   "display_name": "Python 3",
   "language": "python",
   "name": "python3"
  },
  "language_info": {
   "codemirror_mode": {
    "name": "ipython",
    "version": 3
   },
   "file_extension": ".py",
   "mimetype": "text/x-python",
   "name": "python",
   "nbconvert_exporter": "python",
   "pygments_lexer": "ipython3",
   "version": "3.7.3"
  }
 },
 "nbformat": 4,
 "nbformat_minor": 5
}
